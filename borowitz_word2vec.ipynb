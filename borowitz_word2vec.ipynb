{
 "cells": [
  {
   "cell_type": "code",
   "execution_count": 41,
   "metadata": {},
   "outputs": [],
   "source": [
    "import numpy as np\n",
    "from nltk.corpus import stopwords\n",
    "from bs4 import BeautifulSoup\n",
    "from urllib.request import urlopen\n",
    "import string\n",
    "import json"
   ]
  },
  {
   "cell_type": "code",
   "execution_count": 5,
   "metadata": {},
   "outputs": [],
   "source": [
    "import gensim"
   ]
  },
  {
   "cell_type": "code",
   "execution_count": 2,
   "metadata": {},
   "outputs": [],
   "source": [
    "# In the following, I've decided to take out the most common words, which may not convey much meaning: stop words\n",
    "stop_words = stopwords.words('english')"
   ]
  },
  {
   "cell_type": "code",
   "execution_count": 3,
   "metadata": {},
   "outputs": [],
   "source": [
    "stop_words.extend(['would','said'])"
   ]
  },
  {
   "cell_type": "code",
   "execution_count": 7,
   "metadata": {},
   "outputs": [],
   "source": [
    "# We're going to use the pre-trained Word2Vec model from Google.  The file below shows up as 3.64GB!\n",
    "model = gensim.models.KeyedVectors.load_word2vec_format('GoogleNews-vectors-negative300.bin', binary=True)  "
   ]
  },
  {
   "cell_type": "code",
   "execution_count": 12,
   "metadata": {},
   "outputs": [
    {
     "data": {
      "image/png": "[encoded data removed]",
      "text/plain": [
       "<Figure size 432x288 with 1 Axes>"
      ]
     },
     "metadata": {},
     "output_type": "display_data"
    }
   ],
   "source": [
    "import matplotlib.pyplot as plt\n",
    "%matplotlib inline\n",
    "import seaborn as sb  \n",
    "import numpy as np\n",
    "\n",
    "words = ['king','queen', 'man', 'woman']  \n",
    "\n",
    "\n",
    "vectors = np.array([[0.6,   0.8], \n",
    "                    [0.8, 0.6],\n",
    "                   [.2,.4],[.4,.2]]\n",
    "                 ) \n",
    "\n",
    "plt.plot(vectors[:,0], vectors[:,1], 'o')  \n",
    "plt.xlim(0, 1.5)  \n",
    "plt.ylim(0, 1.5)  \n",
    "for word, x, y in zip(words, vectors[:,0], vectors[:,1]):\n",
    "    plt.annotate(word, (x, y), size=12)\n",
    "    \n",
    "# Notice how the vector from queen to king and the vector from woman to man are both in the same direction?\n",
    "# This illustrates the idea that the word embedding captures meaning of the words. The vector from queen to king\n",
    "# is just v_king - v_queen, that is the difference.  The difference between a king and a queen is is simply the\n",
    "# gender.  Similarly with the difference between man and woman.  So the direction of the vector is simply the \n",
    "# gender direction in this simple 2-D example."
   ]
  },
  {
   "cell_type": "code",
   "execution_count": 17,
   "metadata": {},
   "outputs": [
    {
     "data": {
      "text/plain": [
       "300"
      ]
     },
     "execution_count": 17,
     "metadata": {},
     "output_type": "execute_result"
    }
   ],
   "source": [
    "len(model['computer']) # Each word is represented by a 300-dimensional numerical vector"
   ]
  },
  {
   "cell_type": "code",
   "execution_count": 18,
   "metadata": {},
   "outputs": [
    {
     "data": {
      "text/plain": [
       "[('kings', 0.7138045430183411),\n",
       " ('queen', 0.6510956883430481),\n",
       " ('monarch', 0.6413194537162781),\n",
       " ('crown_prince', 0.6204219460487366)]"
      ]
     },
     "execution_count": 18,
     "metadata": {},
     "output_type": "execute_result"
    }
   ],
   "source": [
    "model.most_similar('king',topn=4)"
   ]
  },
  {
   "cell_type": "code",
   "execution_count": 19,
   "metadata": {},
   "outputs": [
    {
     "data": {
      "text/plain": [
       "'breakfast'"
      ]
     },
     "execution_count": 19,
     "metadata": {},
     "output_type": "execute_result"
    }
   ],
   "source": [
    "model.doesnt_match(\"breakfast soldier cowboy warrior\".split())"
   ]
  },
  {
   "cell_type": "code",
   "execution_count": 32,
   "metadata": {},
   "outputs": [
    {
     "data": {
      "text/plain": [
       "0.7664012230995352"
      ]
     },
     "execution_count": 32,
     "metadata": {},
     "output_type": "execute_result"
    }
   ],
   "source": [
    "# Similarity\n",
    "model.similarity('woman','man')"
   ]
  },
  {
   "cell_type": "code",
   "execution_count": 29,
   "metadata": {},
   "outputs": [
    {
     "data": {
      "text/plain": [
       "0.8224723253480029"
      ]
     },
     "execution_count": 29,
     "metadata": {},
     "output_type": "execute_result"
    }
   ],
   "source": [
    "# Compute cosine_similarity\n",
    "model.n_similarity(['woman', 'girl'], ['man', 'boy'])"
   ]
  },
  {
   "cell_type": "code",
   "execution_count": 24,
   "metadata": {},
   "outputs": [
    {
     "data": {
      "text/plain": [
       "[('queen', 0.7118192911148071),\n",
       " ('monarch', 0.6189674139022827),\n",
       " ('princess', 0.5902431607246399),\n",
       " ('crown_prince', 0.5499460697174072),\n",
       " ('prince', 0.5377321243286133)]"
      ]
     },
     "execution_count": 24,
     "metadata": {},
     "output_type": "execute_result"
    }
   ],
   "source": [
    "# king - man + woman = ? should give you 'queen' as the most likely result.\n",
    "model.most_similar(positive=['woman', 'king'], negative=['man'], topn=5)"
   ]
  },
  {
   "cell_type": "code",
   "execution_count": 25,
   "metadata": {},
   "outputs": [
    {
     "data": {
      "text/plain": [
       "[('smallest', 0.6086567640304565),\n",
       " ('largest', 0.6007465124130249),\n",
       " ('tiny', 0.5387297868728638),\n",
       " ('large', 0.45694398880004883),\n",
       " ('minuscule', 0.4340195059776306)]"
      ]
     },
     "execution_count": 25,
     "metadata": {},
     "output_type": "execute_result"
    }
   ],
   "source": [
    "# Even does grammar!  biggest - big + small = ? should give you 'smallest' as the most likely result.\n",
    "model.most_similar(positive=['biggest','small'], negative=['big'], topn=5)"
   ]
  },
  {
   "cell_type": "code",
   "execution_count": 26,
   "metadata": {},
   "outputs": [
    {
     "data": {
      "text/plain": [
       "[('spoke', 0.6965223550796509),\n",
       " ('speaking', 0.6261292099952698),\n",
       " ('conversed', 0.5754592418670654),\n",
       " ('spoken', 0.5704882740974426),\n",
       " ('speaks', 0.5630601644515991)]"
      ]
     },
     "execution_count": 26,
     "metadata": {},
     "output_type": "execute_result"
    }
   ],
   "source": [
    "# Past tense.  ate - eat + speak = ? should give you 'spoke' as the most likely result.\n",
    "model.most_similar(positive=['ate','speak'], negative=['eat'], topn=5)"
   ]
  },
  {
   "cell_type": "code",
   "execution_count": 79,
   "metadata": {},
   "outputs": [
    {
     "data": {
      "text/plain": [
       "0.10096702252728725"
      ]
     },
     "execution_count": 79,
     "metadata": {},
     "output_type": "execute_result"
    }
   ],
   "source": [
    "# Promising result.  Obviously, recent US politics has little to do with food.\n",
    "model.n_similarity(['trump','clinton','election'], ['cake','lasagna','cheese'])"
   ]
  },
  {
   "cell_type": "code",
   "execution_count": 75,
   "metadata": {},
   "outputs": [],
   "source": [
    "def load_borowitz():\n",
    "    with open('final_borowitz_glove.json', 'r') as fp:\n",
    "        borowitz = json.load(fp)\n",
    "        fp.close()\n",
    "        borowitz_articles = []\n",
    "        for article in borowitz:\n",
    "            article[3] = [word for word in article[3] if word in word_vectors.vocab]\n",
    "            borowitz_articles.append(article[3])\n",
    "    return borowitz, borowitz_articles"
   ]
  },
  {
   "cell_type": "code",
   "execution_count": 76,
   "metadata": {},
   "outputs": [],
   "source": [
    "borowitz, borowitz_articles = load_borowitz()"
   ]
  },
  {
   "cell_type": "code",
   "execution_count": 60,
   "metadata": {},
   "outputs": [
    {
     "name": "stderr",
     "output_type": "stream",
     "text": [
      "/Users/velocci/anaconda3/lib/python3.6/site-packages/ipykernel_launcher.py:1: DeprecationWarning: Call to deprecated `wv` (Attribute will be removed in 4.0.0, use self instead).\n",
      "  \"\"\"Entry point for launching an IPython kernel.\n"
     ]
    }
   ],
   "source": [
    "word_vectors = model.wv"
   ]
  },
  {
   "cell_type": "code",
   "execution_count": 77,
   "metadata": {},
   "outputs": [],
   "source": [
    "def get_onion_text(page_url):\n",
    "    page = urlopen(page_url)\n",
    "    soup = BeautifulSoup(page, \"html.parser\")\n",
    "    stuff = soup.find_all(\"p\", attrs={\"class\":None})\n",
    "    article_text = \"\"\n",
    "    for things in stuff:\n",
    "        blah = things.text.strip()\n",
    "        article_text += blah + ' '\n",
    "    article_text = \"\".join((char.lower() for char in article_text if char not in string.punctuation))\n",
    "    article_text = article_text.replace('\"', \" \").replace(\"'\",'').replace('“',' ').replace('”',' ').replace(\"’\",'').replace('-',' ').replace('--',' ').replace('—',' ').replace('…',' ')\n",
    "    article_text = [word for word in article_text.split() if word not in stop_words]\n",
    "    article_text = [word for word in article_text if word in word_vectors.vocab]\n",
    "    return article_text\n",
    "\n",
    "def get_nytimes_text(page_url):\n",
    "    page = urlopen(page_url)\n",
    "    soup = BeautifulSoup(page, \"html.parser\")\n",
    "    stuff = soup.find_all(\"div\", attrs={\"class\":\"css-18sbwfn StoryBodyCompanionColumn\"}) # Updated August 9, 2018\n",
    "    article_text = \"\"\n",
    "    for things in stuff:\n",
    "        blah = things.text.strip()\n",
    "        article_text += blah + ' '\n",
    "    article_text = \"\".join((char.lower() for char in article_text if char not in string.punctuation))\n",
    "    article_text = article_text.replace('\"', \" \").replace(\"'\",'').replace('“',' ').replace('”',' ').replace(\"’\",'').replace('-',' ').replace('--',' ').replace('—',' ').replace('…',' ')\n",
    "    article_text = [word for word in article_text.split() if word not in stop_words]\n",
    "    article_text = [word for word in article_text if word in word_vectors.vocab]\n",
    "    return article_text\n",
    "\n",
    "def find_similar_borowitz(new_text):\n",
    "    scores = []\n",
    "    for borowitz_article in borowitz_articles:\n",
    "        score = model.n_similarity(borowitz_article, new_text)\n",
    "        scores.append(score)\n",
    "    indices = [b[0] for b in sorted(enumerate(scores),key=lambda i:i[1], reverse=True)]\n",
    "    i = indices[0]\n",
    "    j = indices[1]\n",
    "    return borowitz[i][0], borowitz[i][2], borowitz[j][0], borowitz[j][2], i, j\n",
    "\n",
    "def which_newspaper(text):\n",
    "    start_nyt = ['https://www.nytimes.com', 'http://www.nytimes.com', 'www.nytimes.com', 'https://mobile.nytimes.com', 'http://mobile.nytimes.com']\n",
    "    http = ['http://', 'https://']\n",
    "    if any(text.startswith(beginning) for beginning in start_nyt):\n",
    "        return get_nytimes_text(text)\n",
    "    elif any(text.startswith(beginning) for beginning in http) and 'theonion.com' in text:\n",
    "        return get_onion_text(text)\n",
    "    else:\n",
    "        text = \"\".join((char.lower() for char in text if char not in string.punctuation))\n",
    "        text = text.replace('\"', \" \").replace(\"'\",'').replace('“',' ').replace('”',' ').replace(\"’\",'').replace('-',' ').replace('--',' ').replace('—',' ').replace('…',' ')\n",
    "        text = [word for word in text.split() if word not in stop_words]\n",
    "        text = [word for word in text if word in word_vectors.vocab]\n",
    "    return text"
   ]
  },
  {
   "cell_type": "code",
   "execution_count": 84,
   "metadata": {},
   "outputs": [
    {
     "data": {
      "text/plain": [
       "('Facebook Unveils New Waste of Time | The New Yorker',\n",
       " 'https://www.newyorker.com/humor/borowitz-report/facebook-unveils-new-waste-of-time',\n",
       " 'No One in Nation Notices Total Disappearance of Chris Christie | The New Yorker',\n",
       " 'https://www.newyorker.com/humor/borowitz-report/no-one-in-nation-notices-total-disappearance-of-chris-christie',\n",
       " 757,\n",
       " 309)"
      ]
     },
     "execution_count": 84,
     "metadata": {},
     "output_type": "execute_result"
    }
   ],
   "source": [
    "find_similar_borowitz(get_nytimes_text('https://www.nytimes.com/2018/08/14/technology/facebook-disinformation-black-elevation.html'))"
   ]
  },
  {
   "cell_type": "code",
   "execution_count": 85,
   "metadata": {},
   "outputs": [
    {
     "data": {
      "text/plain": [
       "('Scalia Says Marriage Views Not Affected by Lifelong Fear of Gays | The New Yorker',\n",
       " 'https://www.newyorker.com/humor/borowitz-report/scalia-says-marriage-views-not-affected-by-lifelong-fear-of-gays',\n",
       " 'Scalia Forms Search Committee for New Pope | The New Yorker',\n",
       " 'https://www.newyorker.com/humor/borowitz-report/scalia-forms-search-committee-for-new-pope',\n",
       " 763,\n",
       " 695)"
      ]
     },
     "execution_count": 85,
     "metadata": {},
     "output_type": "execute_result"
    }
   ],
   "source": [
    "find_similar_borowitz(get_nytimes_text('https://www.nytimes.com/2018/08/14/us/catholic-church-sex-abuse-pennsylvania.html'))"
   ]
  },
  {
   "cell_type": "code",
   "execution_count": null,
   "metadata": {},
   "outputs": [],
   "source": []
  }
 ],
 "metadata": {
  "kernelspec": {
   "display_name": "Python 3",
   "language": "python",
   "name": "python3"
  },
  "language_info": {
   "codemirror_mode": {
    "name": "ipython",
    "version": 3
   },
   "file_extension": ".py",
   "mimetype": "text/x-python",
   "name": "python",
   "nbconvert_exporter": "python",
   "pygments_lexer": "ipython3",
   "version": "3.6.5"
  }
 },
 "nbformat": 4,
 "nbformat_minor": 2
}
